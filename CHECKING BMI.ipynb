{
 "cells": [
  {
   "cell_type": "code",
   "execution_count": 1,
   "id": "275ee547",
   "metadata": {},
   "outputs": [
    {
     "name": "stdout",
     "output_type": "stream",
     "text": [
      "enter your height in m: 1.7\n",
      "enter your weight in kg: 85\n",
      "Your bmi is 29.4, you are slightly over weight.\n"
     ]
    }
   ],
   "source": [
    "# Checking you body mass index\n",
    "height = float(input(\"enter your height in m: \"))\n",
    "weight = float(input(\"enter your weight in kg: \"))\n",
    "\n",
    "\n",
    "#BMI calculation\n",
    "\n",
    "bmi=weight/height**2\n",
    "bmi=(round(bmi, 1))\n",
    "\n",
    "#checking for conditions\n",
    "if bmi<18.5:\n",
    "    print(f\"Your bmi is {bmi}, you are underweight.\")\n",
    "elif bmi < 25:\n",
    "    print(f\"Your bmi is {bmi}, you have a normal weight.\")\n",
    "elif bmi<30:\n",
    "    print(f\"Your bmi is {bmi}, you are slightly over weight.\")\n",
    "elif bmi<35:\n",
    "    print(f\"Your bmi is {bmi}, you are obese.\")\n",
    "else:\n",
    "    print(f\"Your bmi is {bmi}, you are clinically obese.\")"
   ]
  },
  {
   "cell_type": "code",
   "execution_count": null,
   "id": "92f7ca75",
   "metadata": {},
   "outputs": [],
   "source": []
  }
 ],
 "metadata": {
  "kernelspec": {
   "display_name": "Python 3 (ipykernel)",
   "language": "python",
   "name": "python3"
  },
  "language_info": {
   "codemirror_mode": {
    "name": "ipython",
    "version": 3
   },
   "file_extension": ".py",
   "mimetype": "text/x-python",
   "name": "python",
   "nbconvert_exporter": "python",
   "pygments_lexer": "ipython3",
   "version": "3.8.13"
  }
 },
 "nbformat": 4,
 "nbformat_minor": 5
}

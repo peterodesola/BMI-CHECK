{
  "nbformat": 4,
  "nbformat_minor": 0,
  "metadata": {
    "colab": {
      "provenance": [],
      "authorship_tag": "ABX9TyOYlfv88dJ3l4SMPG14GbQJ",
      "include_colab_link": true
    },
    "kernelspec": {
      "name": "python3",
      "display_name": "Python 3"
    },
    "language_info": {
      "name": "python"
    }
  },
  "cells": [
    {
      "cell_type": "markdown",
      "metadata": {
        "id": "view-in-github",
        "colab_type": "text"
      },
      "source": [
        "<a href=\"https://colab.research.google.com/github/peterodesola/BMI-CHECK/blob/main/basic_function.ipynb\" target=\"_parent\"><img src=\"https://colab.research.google.com/assets/colab-badge.svg\" alt=\"Open In Colab\"/></a>"
      ]
    },
    {
      "cell_type": "code",
      "execution_count": 9,
      "metadata": {
        "colab": {
          "base_uri": "https://localhost:8080/"
        },
        "id": "SF_Gld7C6cZc",
        "outputId": "b061dab5-d4f7-474e-adfb-8fdb8dc1f14d"
      },
      "outputs": [
        {
          "output_type": "stream",
          "name": "stdout",
          "text": [
            "Welcome to Devon lodge\n",
            "How can we help you today? \n",
            "Please enter your name. Nobleto\n",
            "Your purpose for visit Work\n",
            "\n",
            "\n",
            "Welcome to Devon Lodge Nobleto,We can confirm you are here to Work. Enjoy your stay.\n"
          ]
        }
      ],
      "source": [
        "print(\"Welcome to Devon lodge\")\n",
        "print(\"How can we help you today? \")\n",
        "Name=input(\"Please enter your name. \")\n",
        "Purpose=input(\"Your purpose for visit \")\n",
        "print(\"\\n\")\n",
        "print(f\"Welcome to Devon Lodge {Name},We can confirm you are here to {Purpose}. Enjoy your stay.\")"
      ]
    },
    {
      "cell_type": "code",
      "source": [
        "Name= input(\"Good morning, please enter your name: \")\n",
        "Gender=input(\"Your gender? \")\n",
        "Age=int(input(\"How old are you? \"))\n",
        "status=int(input(\"Please enter your marital status: 1 for married, 0 for single \"))\n",
        "Children=int(input(\"How many children do you have? \"))\n",
        "total= (1) + (status) + (Children)\n",
        "print(\"\\n\")\n",
        "print(f\"You are total of {total} in your household\")\n"
      ],
      "metadata": {
        "colab": {
          "base_uri": "https://localhost:8080/"
        },
        "id": "P01hknTR7U02",
        "outputId": "1e43a2de-f881-48c2-ca34-a8b2d2c091ec"
      },
      "execution_count": 11,
      "outputs": [
        {
          "output_type": "stream",
          "name": "stdout",
          "text": [
            "Good morning, please enter your name: Nobelito\n",
            "Your gender? male\n",
            "How old are you? 29\n",
            "Please enter your marital status: 1 for married, 0 for single 1\n",
            "How many children do you have? 1\n",
            "\n",
            "\n",
            "You are total of 3 in your household\n"
          ]
        }
      ]
    }
  ]
}